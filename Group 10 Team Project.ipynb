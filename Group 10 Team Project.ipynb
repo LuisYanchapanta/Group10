{
 "cells": [
  {
   "cell_type": "markdown",
   "id": "6dc53c9d",
   "metadata": {},
   "source": [
    "# Team 10\n",
    "# Luis Yanchapanta, Andrew Chen, Andres Analuisa\n",
    "## Project: Credit Card Fraud Detection\n",
    "### The objective of the project is to gain insights from fradudulent credit card transactions. This project will be an attempt to identify trends within fraudulent transactions to better our understanding and answer questions such as where fraudulent transactions are used and who are more likely to be affected by fraud. Through this, we hope to find ways to improve and find new preventative measures against fraud\n",
    "Data file: breast_cancer_diagnosis.csv"
   ]
  },
  {
   "cell_type": "markdown",
   "id": "5f63b2d6",
   "metadata": {},
   "source": [
    "### Import libraries"
   ]
  },
  {
   "cell_type": "code",
   "execution_count": 157,
   "id": "f55476c4",
   "metadata": {},
   "outputs": [],
   "source": [
    "import pandas as pd\n",
    "import matplotlib.pyplot as plt\n",
    "%matplotlib inline\n",
    "import seaborn as sns\n",
    "from sklearn.linear_model import LogisticRegression\n",
    "from sklearn.model_selection import train_test_split\n",
    "from sklearn.metrics import classification_report\n",
    "from sklearn.metrics import confusion_matrix\n",
    "import numpy as np\n",
    "from sklearn.impute import SimpleImputer"
   ]
  },
  {
   "cell_type": "markdown",
   "id": "07b3344a",
   "metadata": {},
   "source": [
    "### Load data"
   ]
  },
  {
   "cell_type": "code",
   "execution_count": 186,
   "id": "d0cc1068",
   "metadata": {},
   "outputs": [],
   "source": [
    "# Read data from file (breast_cancer_diagnosis.csv) into dataframe\n",
    "df = pd.read_csv('breast_cancer_diagnosis.csv', index_col= 1)\n"
   ]
  },
  {
   "cell_type": "markdown",
   "id": "c62c0cad",
   "metadata": {},
   "source": [
    "# Part 1: Web Scraping\n",
    "## NYC Crime Data from \"www.data.ny.gov\""
   ]
  },
  {
   "cell_type": "markdown",
   "id": "e82bfde7",
   "metadata": {},
   "source": [
    "### Examine data"
   ]
  },
  {
   "cell_type": "code",
   "execution_count": 187,
   "id": "3c59f675",
   "metadata": {},
   "outputs": [
    {
     "data": {
      "text/plain": [
       "(569, 12)"
      ]
     },
     "execution_count": 187,
     "metadata": {},
     "output_type": "execute_result"
    }
   ],
   "source": [
    "# Review dataframe shape\n",
    "df.shape"
   ]
  },
  {
   "cell_type": "code",
   "execution_count": 188,
   "id": "739b1218",
   "metadata": {
    "scrolled": true
   },
   "outputs": [
    {
     "data": {
      "text/html": [
       "<div>\n",
       "<style scoped>\n",
       "    .dataframe tbody tr th:only-of-type {\n",
       "        vertical-align: middle;\n",
       "    }\n",
       "\n",
       "    .dataframe tbody tr th {\n",
       "        vertical-align: top;\n",
       "    }\n",
       "\n",
       "    .dataframe thead th {\n",
       "        text-align: right;\n",
       "    }\n",
       "</style>\n",
       "<table border=\"1\" class=\"dataframe\">\n",
       "  <thead>\n",
       "    <tr style=\"text-align: right;\">\n",
       "      <th></th>\n",
       "      <th>id</th>\n",
       "      <th>radius</th>\n",
       "      <th>texture</th>\n",
       "      <th>perimeter</th>\n",
       "      <th>area</th>\n",
       "      <th>smoothness</th>\n",
       "      <th>compactness</th>\n",
       "      <th>concavity</th>\n",
       "      <th>symmetry</th>\n",
       "      <th>fractal_dimension</th>\n",
       "      <th>age</th>\n",
       "      <th>diagnosis</th>\n",
       "    </tr>\n",
       "    <tr>\n",
       "      <th>name</th>\n",
       "      <th></th>\n",
       "      <th></th>\n",
       "      <th></th>\n",
       "      <th></th>\n",
       "      <th></th>\n",
       "      <th></th>\n",
       "      <th></th>\n",
       "      <th></th>\n",
       "      <th></th>\n",
       "      <th></th>\n",
       "      <th></th>\n",
       "      <th></th>\n",
       "    </tr>\n",
       "  </thead>\n",
       "  <tbody>\n",
       "    <tr>\n",
       "      <th>Glynnis Munson</th>\n",
       "      <td>ID842302</td>\n",
       "      <td>NaN</td>\n",
       "      <td>10.38</td>\n",
       "      <td>122.80</td>\n",
       "      <td>1001.0</td>\n",
       "      <td>0.11840</td>\n",
       "      <td>0.27760</td>\n",
       "      <td>0.30010</td>\n",
       "      <td>0.2419</td>\n",
       "      <td>0.07871</td>\n",
       "      <td>35</td>\n",
       "      <td>1</td>\n",
       "    </tr>\n",
       "    <tr>\n",
       "      <th>Lana Behrer</th>\n",
       "      <td>ID842517</td>\n",
       "      <td>20.57</td>\n",
       "      <td>17.77</td>\n",
       "      <td>132.90</td>\n",
       "      <td>1326.0</td>\n",
       "      <td>0.08474</td>\n",
       "      <td>0.07864</td>\n",
       "      <td>0.08690</td>\n",
       "      <td>0.1812</td>\n",
       "      <td>0.05667</td>\n",
       "      <td>27</td>\n",
       "      <td>1</td>\n",
       "    </tr>\n",
       "    <tr>\n",
       "      <th>Devondra Vanvalkenburgh</th>\n",
       "      <td>ID84300903</td>\n",
       "      <td>19.69</td>\n",
       "      <td>21.25</td>\n",
       "      <td>130.00</td>\n",
       "      <td>1203.0</td>\n",
       "      <td>0.10960</td>\n",
       "      <td>0.15990</td>\n",
       "      <td>0.19740</td>\n",
       "      <td>0.2069</td>\n",
       "      <td>0.05999</td>\n",
       "      <td>31</td>\n",
       "      <td>1</td>\n",
       "    </tr>\n",
       "    <tr>\n",
       "      <th>Glory Maravalle</th>\n",
       "      <td>ID84348301</td>\n",
       "      <td>NaN</td>\n",
       "      <td>20.38</td>\n",
       "      <td>77.58</td>\n",
       "      <td>386.1</td>\n",
       "      <td>0.14250</td>\n",
       "      <td>0.28390</td>\n",
       "      <td>0.24140</td>\n",
       "      <td>0.2597</td>\n",
       "      <td>0.09744</td>\n",
       "      <td>49</td>\n",
       "      <td>1</td>\n",
       "    </tr>\n",
       "    <tr>\n",
       "      <th>Mellie Mccurdy</th>\n",
       "      <td>ID84358402</td>\n",
       "      <td>20.29</td>\n",
       "      <td>14.34</td>\n",
       "      <td>135.10</td>\n",
       "      <td>1297.0</td>\n",
       "      <td>0.10030</td>\n",
       "      <td>0.13280</td>\n",
       "      <td>0.19800</td>\n",
       "      <td>0.1809</td>\n",
       "      <td>0.05883</td>\n",
       "      <td>20</td>\n",
       "      <td>1</td>\n",
       "    </tr>\n",
       "    <tr>\n",
       "      <th>Merle Yelon</th>\n",
       "      <td>ID843786</td>\n",
       "      <td>NaN</td>\n",
       "      <td>15.70</td>\n",
       "      <td>82.57</td>\n",
       "      <td>477.1</td>\n",
       "      <td>0.12780</td>\n",
       "      <td>0.17000</td>\n",
       "      <td>0.15780</td>\n",
       "      <td>0.2087</td>\n",
       "      <td>0.07613</td>\n",
       "      <td>39</td>\n",
       "      <td>1</td>\n",
       "    </tr>\n",
       "    <tr>\n",
       "      <th>Corrianne Banzett</th>\n",
       "      <td>ID844359</td>\n",
       "      <td>18.25</td>\n",
       "      <td>19.98</td>\n",
       "      <td>119.60</td>\n",
       "      <td>1040.0</td>\n",
       "      <td>0.09463</td>\n",
       "      <td>0.10900</td>\n",
       "      <td>0.11270</td>\n",
       "      <td>0.1794</td>\n",
       "      <td>0.05742</td>\n",
       "      <td>38</td>\n",
       "      <td>1</td>\n",
       "    </tr>\n",
       "    <tr>\n",
       "      <th>Noni Marcellino</th>\n",
       "      <td>ID84458202</td>\n",
       "      <td>NaN</td>\n",
       "      <td>20.83</td>\n",
       "      <td>90.20</td>\n",
       "      <td>577.9</td>\n",
       "      <td>0.11890</td>\n",
       "      <td>0.16450</td>\n",
       "      <td>0.09366</td>\n",
       "      <td>0.2196</td>\n",
       "      <td>0.07451</td>\n",
       "      <td>28</td>\n",
       "      <td>1</td>\n",
       "    </tr>\n",
       "    <tr>\n",
       "      <th>Kacy Meltzer</th>\n",
       "      <td>ID844981</td>\n",
       "      <td>NaN</td>\n",
       "      <td>21.82</td>\n",
       "      <td>87.50</td>\n",
       "      <td>519.8</td>\n",
       "      <td>0.12730</td>\n",
       "      <td>0.19320</td>\n",
       "      <td>0.18590</td>\n",
       "      <td>0.2350</td>\n",
       "      <td>0.07389</td>\n",
       "      <td>50</td>\n",
       "      <td>1</td>\n",
       "    </tr>\n",
       "    <tr>\n",
       "      <th>Elka Ortolani</th>\n",
       "      <td>ID84501001</td>\n",
       "      <td>NaN</td>\n",
       "      <td>24.04</td>\n",
       "      <td>83.97</td>\n",
       "      <td>475.9</td>\n",
       "      <td>0.11860</td>\n",
       "      <td>0.23960</td>\n",
       "      <td>0.22730</td>\n",
       "      <td>0.2030</td>\n",
       "      <td>0.08243</td>\n",
       "      <td>60</td>\n",
       "      <td>1</td>\n",
       "    </tr>\n",
       "  </tbody>\n",
       "</table>\n",
       "</div>"
      ],
      "text/plain": [
       "                                 id  radius  texture  perimeter    area  \\\n",
       "name                                                                      \n",
       "Glynnis Munson             ID842302     NaN    10.38     122.80  1001.0   \n",
       "Lana Behrer                ID842517   20.57    17.77     132.90  1326.0   \n",
       "Devondra Vanvalkenburgh  ID84300903   19.69    21.25     130.00  1203.0   \n",
       "Glory Maravalle          ID84348301     NaN    20.38      77.58   386.1   \n",
       "Mellie Mccurdy           ID84358402   20.29    14.34     135.10  1297.0   \n",
       "Merle Yelon                ID843786     NaN    15.70      82.57   477.1   \n",
       "Corrianne Banzett          ID844359   18.25    19.98     119.60  1040.0   \n",
       "Noni Marcellino          ID84458202     NaN    20.83      90.20   577.9   \n",
       "Kacy Meltzer               ID844981     NaN    21.82      87.50   519.8   \n",
       "Elka Ortolani            ID84501001     NaN    24.04      83.97   475.9   \n",
       "\n",
       "                         smoothness  compactness  concavity  symmetry  \\\n",
       "name                                                                    \n",
       "Glynnis Munson              0.11840      0.27760    0.30010    0.2419   \n",
       "Lana Behrer                 0.08474      0.07864    0.08690    0.1812   \n",
       "Devondra Vanvalkenburgh     0.10960      0.15990    0.19740    0.2069   \n",
       "Glory Maravalle             0.14250      0.28390    0.24140    0.2597   \n",
       "Mellie Mccurdy              0.10030      0.13280    0.19800    0.1809   \n",
       "Merle Yelon                 0.12780      0.17000    0.15780    0.2087   \n",
       "Corrianne Banzett           0.09463      0.10900    0.11270    0.1794   \n",
       "Noni Marcellino             0.11890      0.16450    0.09366    0.2196   \n",
       "Kacy Meltzer                0.12730      0.19320    0.18590    0.2350   \n",
       "Elka Ortolani               0.11860      0.23960    0.22730    0.2030   \n",
       "\n",
       "                         fractal_dimension  age  diagnosis  \n",
       "name                                                        \n",
       "Glynnis Munson                     0.07871   35          1  \n",
       "Lana Behrer                        0.05667   27          1  \n",
       "Devondra Vanvalkenburgh            0.05999   31          1  \n",
       "Glory Maravalle                    0.09744   49          1  \n",
       "Mellie Mccurdy                     0.05883   20          1  \n",
       "Merle Yelon                        0.07613   39          1  \n",
       "Corrianne Banzett                  0.05742   38          1  \n",
       "Noni Marcellino                    0.07451   28          1  \n",
       "Kacy Meltzer                       0.07389   50          1  \n",
       "Elka Ortolani                      0.08243   60          1  "
      ]
     },
     "execution_count": 188,
     "metadata": {},
     "output_type": "execute_result"
    }
   ],
   "source": [
    "# Display first 10 rows\n",
    "df.head(10)"
   ]
  },
  {
   "cell_type": "markdown",
   "id": "1684dc3a",
   "metadata": {},
   "source": [
    "Note: NaN in radius column"
   ]
  },
  {
   "cell_type": "markdown",
   "id": "fb8041c4",
   "metadata": {},
   "source": [
    "### Prepare data"
   ]
  },
  {
   "cell_type": "markdown",
   "id": "a4de4294",
   "metadata": {},
   "source": [
    "### Check for missing values"
   ]
  },
  {
   "cell_type": "code",
   "execution_count": 189,
   "id": "aa61de2c",
   "metadata": {},
   "outputs": [
    {
     "data": {
      "text/plain": [
       "id                    0\n",
       "radius               71\n",
       "texture               0\n",
       "perimeter             0\n",
       "area                  0\n",
       "smoothness            0\n",
       "compactness           0\n",
       "concavity             0\n",
       "symmetry              0\n",
       "fractal_dimension     0\n",
       "age                   0\n",
       "diagnosis             0\n",
       "dtype: int64"
      ]
     },
     "execution_count": 189,
     "metadata": {},
     "output_type": "execute_result"
    }
   ],
   "source": [
    "df.isnull().sum()"
   ]
  },
  {
   "cell_type": "markdown",
   "id": "d84f0115",
   "metadata": {},
   "source": [
    "### Handle missing values\n",
    "Remember to use \"inplace=True\""
   ]
  },
  {
   "cell_type": "code",
   "execution_count": 191,
   "id": "94edbfdc",
   "metadata": {},
   "outputs": [
    {
     "data": {
      "text/plain": [
       "SimpleImputer()"
      ]
     },
     "execution_count": 191,
     "metadata": {},
     "output_type": "execute_result"
    }
   ],
   "source": [
    "# Figure out strategy to replace values where radius is NaN\n",
    "df[df.isnull().any(axis=1)]\n",
    "\n",
    "imp_mean = SimpleImputer(missing_values=np.nan, strategy='mean')\n",
    "X = df[['radius', 'texture', 'perimeter', 'area', 'smoothness', 'compactness', 'concavity', 'symmetry', 'fractal_dimension', 'age', 'diagnosis']]\n",
    "imp_mean.fit(X)"
   ]
  },
  {
   "cell_type": "code",
   "execution_count": 193,
   "id": "7ecb246e",
   "metadata": {},
   "outputs": [
    {
     "data": {
      "text/html": [
       "<div>\n",
       "<style scoped>\n",
       "    .dataframe tbody tr th:only-of-type {\n",
       "        vertical-align: middle;\n",
       "    }\n",
       "\n",
       "    .dataframe tbody tr th {\n",
       "        vertical-align: top;\n",
       "    }\n",
       "\n",
       "    .dataframe thead th {\n",
       "        text-align: right;\n",
       "    }\n",
       "</style>\n",
       "<table border=\"1\" class=\"dataframe\">\n",
       "  <thead>\n",
       "    <tr style=\"text-align: right;\">\n",
       "      <th></th>\n",
       "      <th>radius</th>\n",
       "      <th>texture</th>\n",
       "      <th>perimeter</th>\n",
       "      <th>area</th>\n",
       "      <th>smoothness</th>\n",
       "      <th>compactness</th>\n",
       "      <th>concavity</th>\n",
       "      <th>symmetry</th>\n",
       "      <th>fractal_dimension</th>\n",
       "      <th>age</th>\n",
       "      <th>diagnosis</th>\n",
       "    </tr>\n",
       "  </thead>\n",
       "  <tbody>\n",
       "    <tr>\n",
       "      <th>0</th>\n",
       "      <td>14.326635</td>\n",
       "      <td>10.38</td>\n",
       "      <td>122.80</td>\n",
       "      <td>1001.0</td>\n",
       "      <td>0.11840</td>\n",
       "      <td>0.27760</td>\n",
       "      <td>0.30010</td>\n",
       "      <td>0.2419</td>\n",
       "      <td>0.07871</td>\n",
       "      <td>35.0</td>\n",
       "      <td>1.0</td>\n",
       "    </tr>\n",
       "    <tr>\n",
       "      <th>1</th>\n",
       "      <td>20.570000</td>\n",
       "      <td>17.77</td>\n",
       "      <td>132.90</td>\n",
       "      <td>1326.0</td>\n",
       "      <td>0.08474</td>\n",
       "      <td>0.07864</td>\n",
       "      <td>0.08690</td>\n",
       "      <td>0.1812</td>\n",
       "      <td>0.05667</td>\n",
       "      <td>27.0</td>\n",
       "      <td>1.0</td>\n",
       "    </tr>\n",
       "    <tr>\n",
       "      <th>2</th>\n",
       "      <td>19.690000</td>\n",
       "      <td>21.25</td>\n",
       "      <td>130.00</td>\n",
       "      <td>1203.0</td>\n",
       "      <td>0.10960</td>\n",
       "      <td>0.15990</td>\n",
       "      <td>0.19740</td>\n",
       "      <td>0.2069</td>\n",
       "      <td>0.05999</td>\n",
       "      <td>31.0</td>\n",
       "      <td>1.0</td>\n",
       "    </tr>\n",
       "    <tr>\n",
       "      <th>3</th>\n",
       "      <td>14.326635</td>\n",
       "      <td>20.38</td>\n",
       "      <td>77.58</td>\n",
       "      <td>386.1</td>\n",
       "      <td>0.14250</td>\n",
       "      <td>0.28390</td>\n",
       "      <td>0.24140</td>\n",
       "      <td>0.2597</td>\n",
       "      <td>0.09744</td>\n",
       "      <td>49.0</td>\n",
       "      <td>1.0</td>\n",
       "    </tr>\n",
       "    <tr>\n",
       "      <th>4</th>\n",
       "      <td>20.290000</td>\n",
       "      <td>14.34</td>\n",
       "      <td>135.10</td>\n",
       "      <td>1297.0</td>\n",
       "      <td>0.10030</td>\n",
       "      <td>0.13280</td>\n",
       "      <td>0.19800</td>\n",
       "      <td>0.1809</td>\n",
       "      <td>0.05883</td>\n",
       "      <td>20.0</td>\n",
       "      <td>1.0</td>\n",
       "    </tr>\n",
       "    <tr>\n",
       "      <th>5</th>\n",
       "      <td>14.326635</td>\n",
       "      <td>15.70</td>\n",
       "      <td>82.57</td>\n",
       "      <td>477.1</td>\n",
       "      <td>0.12780</td>\n",
       "      <td>0.17000</td>\n",
       "      <td>0.15780</td>\n",
       "      <td>0.2087</td>\n",
       "      <td>0.07613</td>\n",
       "      <td>39.0</td>\n",
       "      <td>1.0</td>\n",
       "    </tr>\n",
       "    <tr>\n",
       "      <th>6</th>\n",
       "      <td>18.250000</td>\n",
       "      <td>19.98</td>\n",
       "      <td>119.60</td>\n",
       "      <td>1040.0</td>\n",
       "      <td>0.09463</td>\n",
       "      <td>0.10900</td>\n",
       "      <td>0.11270</td>\n",
       "      <td>0.1794</td>\n",
       "      <td>0.05742</td>\n",
       "      <td>38.0</td>\n",
       "      <td>1.0</td>\n",
       "    </tr>\n",
       "    <tr>\n",
       "      <th>7</th>\n",
       "      <td>14.326635</td>\n",
       "      <td>20.83</td>\n",
       "      <td>90.20</td>\n",
       "      <td>577.9</td>\n",
       "      <td>0.11890</td>\n",
       "      <td>0.16450</td>\n",
       "      <td>0.09366</td>\n",
       "      <td>0.2196</td>\n",
       "      <td>0.07451</td>\n",
       "      <td>28.0</td>\n",
       "      <td>1.0</td>\n",
       "    </tr>\n",
       "    <tr>\n",
       "      <th>8</th>\n",
       "      <td>14.326635</td>\n",
       "      <td>21.82</td>\n",
       "      <td>87.50</td>\n",
       "      <td>519.8</td>\n",
       "      <td>0.12730</td>\n",
       "      <td>0.19320</td>\n",
       "      <td>0.18590</td>\n",
       "      <td>0.2350</td>\n",
       "      <td>0.07389</td>\n",
       "      <td>50.0</td>\n",
       "      <td>1.0</td>\n",
       "    </tr>\n",
       "    <tr>\n",
       "      <th>9</th>\n",
       "      <td>14.326635</td>\n",
       "      <td>24.04</td>\n",
       "      <td>83.97</td>\n",
       "      <td>475.9</td>\n",
       "      <td>0.11860</td>\n",
       "      <td>0.23960</td>\n",
       "      <td>0.22730</td>\n",
       "      <td>0.2030</td>\n",
       "      <td>0.08243</td>\n",
       "      <td>60.0</td>\n",
       "      <td>1.0</td>\n",
       "    </tr>\n",
       "  </tbody>\n",
       "</table>\n",
       "</div>"
      ],
      "text/plain": [
       "      radius  texture  perimeter    area  smoothness  compactness  concavity  \\\n",
       "0  14.326635    10.38     122.80  1001.0     0.11840      0.27760    0.30010   \n",
       "1  20.570000    17.77     132.90  1326.0     0.08474      0.07864    0.08690   \n",
       "2  19.690000    21.25     130.00  1203.0     0.10960      0.15990    0.19740   \n",
       "3  14.326635    20.38      77.58   386.1     0.14250      0.28390    0.24140   \n",
       "4  20.290000    14.34     135.10  1297.0     0.10030      0.13280    0.19800   \n",
       "5  14.326635    15.70      82.57   477.1     0.12780      0.17000    0.15780   \n",
       "6  18.250000    19.98     119.60  1040.0     0.09463      0.10900    0.11270   \n",
       "7  14.326635    20.83      90.20   577.9     0.11890      0.16450    0.09366   \n",
       "8  14.326635    21.82      87.50   519.8     0.12730      0.19320    0.18590   \n",
       "9  14.326635    24.04      83.97   475.9     0.11860      0.23960    0.22730   \n",
       "\n",
       "   symmetry  fractal_dimension   age  diagnosis  \n",
       "0    0.2419            0.07871  35.0        1.0  \n",
       "1    0.1812            0.05667  27.0        1.0  \n",
       "2    0.2069            0.05999  31.0        1.0  \n",
       "3    0.2597            0.09744  49.0        1.0  \n",
       "4    0.1809            0.05883  20.0        1.0  \n",
       "5    0.2087            0.07613  39.0        1.0  \n",
       "6    0.1794            0.05742  38.0        1.0  \n",
       "7    0.2196            0.07451  28.0        1.0  \n",
       "8    0.2350            0.07389  50.0        1.0  \n",
       "9    0.2030            0.08243  60.0        1.0  "
      ]
     },
     "execution_count": 193,
     "metadata": {},
     "output_type": "execute_result"
    }
   ],
   "source": [
    "# Replace values where radius is NaN based on above strategy\n",
    "\n",
    "df2 = pd.DataFrame(imp_mean.transform(X), columns = ['radius', 'texture', 'perimeter', 'area', 'smoothness', 'compactness', 'concavity', 'symmetry', 'fractal_dimension', 'age', 'diagnosis'])\n",
    "df2.head(10)"
   ]
  },
  {
   "cell_type": "markdown",
   "id": "012f6fc9",
   "metadata": {},
   "source": [
    "### Check for missing values again"
   ]
  },
  {
   "cell_type": "code",
   "execution_count": 194,
   "id": "d27c985b",
   "metadata": {},
   "outputs": [
    {
     "data": {
      "text/plain": [
       "radius               0\n",
       "texture              0\n",
       "perimeter            0\n",
       "area                 0\n",
       "smoothness           0\n",
       "compactness          0\n",
       "concavity            0\n",
       "symmetry             0\n",
       "fractal_dimension    0\n",
       "age                  0\n",
       "diagnosis            0\n",
       "dtype: int64"
      ]
     },
     "execution_count": 194,
     "metadata": {},
     "output_type": "execute_result"
    }
   ],
   "source": [
    "df2.isnull().sum()"
   ]
  },
  {
   "cell_type": "markdown",
   "id": "fb7f0cf4",
   "metadata": {},
   "source": [
    "### Drop non-numeric variables\n",
    "Remember to use \"inplace=True\""
   ]
  },
  {
   "cell_type": "code",
   "execution_count": 197,
   "id": "3c4c5e89",
   "metadata": {},
   "outputs": [
    {
     "data": {
      "text/plain": [
       "(569, 11)"
      ]
     },
     "execution_count": 197,
     "metadata": {},
     "output_type": "execute_result"
    }
   ],
   "source": [
    "non_numeric_cols = df2.select_dtypes(exclude='number')\n",
    "non_numeric_cols.columns\n",
    "df2.drop(non_numeric_cols, axis=1, inplace=True)\n",
    "df2.shape"
   ]
  },
  {
   "cell_type": "markdown",
   "id": "4b7da4f9",
   "metadata": {},
   "source": [
    "### Review updated dataframe"
   ]
  },
  {
   "cell_type": "code",
   "execution_count": 198,
   "id": "9c719eb4",
   "metadata": {},
   "outputs": [
    {
     "data": {
      "text/html": [
       "<div>\n",
       "<style scoped>\n",
       "    .dataframe tbody tr th:only-of-type {\n",
       "        vertical-align: middle;\n",
       "    }\n",
       "\n",
       "    .dataframe tbody tr th {\n",
       "        vertical-align: top;\n",
       "    }\n",
       "\n",
       "    .dataframe thead th {\n",
       "        text-align: right;\n",
       "    }\n",
       "</style>\n",
       "<table border=\"1\" class=\"dataframe\">\n",
       "  <thead>\n",
       "    <tr style=\"text-align: right;\">\n",
       "      <th></th>\n",
       "      <th>radius</th>\n",
       "      <th>texture</th>\n",
       "      <th>perimeter</th>\n",
       "      <th>area</th>\n",
       "      <th>smoothness</th>\n",
       "      <th>compactness</th>\n",
       "      <th>concavity</th>\n",
       "      <th>symmetry</th>\n",
       "      <th>fractal_dimension</th>\n",
       "      <th>age</th>\n",
       "      <th>diagnosis</th>\n",
       "    </tr>\n",
       "  </thead>\n",
       "  <tbody>\n",
       "    <tr>\n",
       "      <th>0</th>\n",
       "      <td>14.326635</td>\n",
       "      <td>10.38</td>\n",
       "      <td>122.80</td>\n",
       "      <td>1001.0</td>\n",
       "      <td>0.11840</td>\n",
       "      <td>0.27760</td>\n",
       "      <td>0.30010</td>\n",
       "      <td>0.2419</td>\n",
       "      <td>0.07871</td>\n",
       "      <td>35.0</td>\n",
       "      <td>1.0</td>\n",
       "    </tr>\n",
       "    <tr>\n",
       "      <th>1</th>\n",
       "      <td>20.570000</td>\n",
       "      <td>17.77</td>\n",
       "      <td>132.90</td>\n",
       "      <td>1326.0</td>\n",
       "      <td>0.08474</td>\n",
       "      <td>0.07864</td>\n",
       "      <td>0.08690</td>\n",
       "      <td>0.1812</td>\n",
       "      <td>0.05667</td>\n",
       "      <td>27.0</td>\n",
       "      <td>1.0</td>\n",
       "    </tr>\n",
       "    <tr>\n",
       "      <th>2</th>\n",
       "      <td>19.690000</td>\n",
       "      <td>21.25</td>\n",
       "      <td>130.00</td>\n",
       "      <td>1203.0</td>\n",
       "      <td>0.10960</td>\n",
       "      <td>0.15990</td>\n",
       "      <td>0.19740</td>\n",
       "      <td>0.2069</td>\n",
       "      <td>0.05999</td>\n",
       "      <td>31.0</td>\n",
       "      <td>1.0</td>\n",
       "    </tr>\n",
       "    <tr>\n",
       "      <th>3</th>\n",
       "      <td>14.326635</td>\n",
       "      <td>20.38</td>\n",
       "      <td>77.58</td>\n",
       "      <td>386.1</td>\n",
       "      <td>0.14250</td>\n",
       "      <td>0.28390</td>\n",
       "      <td>0.24140</td>\n",
       "      <td>0.2597</td>\n",
       "      <td>0.09744</td>\n",
       "      <td>49.0</td>\n",
       "      <td>1.0</td>\n",
       "    </tr>\n",
       "    <tr>\n",
       "      <th>4</th>\n",
       "      <td>20.290000</td>\n",
       "      <td>14.34</td>\n",
       "      <td>135.10</td>\n",
       "      <td>1297.0</td>\n",
       "      <td>0.10030</td>\n",
       "      <td>0.13280</td>\n",
       "      <td>0.19800</td>\n",
       "      <td>0.1809</td>\n",
       "      <td>0.05883</td>\n",
       "      <td>20.0</td>\n",
       "      <td>1.0</td>\n",
       "    </tr>\n",
       "    <tr>\n",
       "      <th>5</th>\n",
       "      <td>14.326635</td>\n",
       "      <td>15.70</td>\n",
       "      <td>82.57</td>\n",
       "      <td>477.1</td>\n",
       "      <td>0.12780</td>\n",
       "      <td>0.17000</td>\n",
       "      <td>0.15780</td>\n",
       "      <td>0.2087</td>\n",
       "      <td>0.07613</td>\n",
       "      <td>39.0</td>\n",
       "      <td>1.0</td>\n",
       "    </tr>\n",
       "    <tr>\n",
       "      <th>6</th>\n",
       "      <td>18.250000</td>\n",
       "      <td>19.98</td>\n",
       "      <td>119.60</td>\n",
       "      <td>1040.0</td>\n",
       "      <td>0.09463</td>\n",
       "      <td>0.10900</td>\n",
       "      <td>0.11270</td>\n",
       "      <td>0.1794</td>\n",
       "      <td>0.05742</td>\n",
       "      <td>38.0</td>\n",
       "      <td>1.0</td>\n",
       "    </tr>\n",
       "    <tr>\n",
       "      <th>7</th>\n",
       "      <td>14.326635</td>\n",
       "      <td>20.83</td>\n",
       "      <td>90.20</td>\n",
       "      <td>577.9</td>\n",
       "      <td>0.11890</td>\n",
       "      <td>0.16450</td>\n",
       "      <td>0.09366</td>\n",
       "      <td>0.2196</td>\n",
       "      <td>0.07451</td>\n",
       "      <td>28.0</td>\n",
       "      <td>1.0</td>\n",
       "    </tr>\n",
       "    <tr>\n",
       "      <th>8</th>\n",
       "      <td>14.326635</td>\n",
       "      <td>21.82</td>\n",
       "      <td>87.50</td>\n",
       "      <td>519.8</td>\n",
       "      <td>0.12730</td>\n",
       "      <td>0.19320</td>\n",
       "      <td>0.18590</td>\n",
       "      <td>0.2350</td>\n",
       "      <td>0.07389</td>\n",
       "      <td>50.0</td>\n",
       "      <td>1.0</td>\n",
       "    </tr>\n",
       "    <tr>\n",
       "      <th>9</th>\n",
       "      <td>14.326635</td>\n",
       "      <td>24.04</td>\n",
       "      <td>83.97</td>\n",
       "      <td>475.9</td>\n",
       "      <td>0.11860</td>\n",
       "      <td>0.23960</td>\n",
       "      <td>0.22730</td>\n",
       "      <td>0.2030</td>\n",
       "      <td>0.08243</td>\n",
       "      <td>60.0</td>\n",
       "      <td>1.0</td>\n",
       "    </tr>\n",
       "  </tbody>\n",
       "</table>\n",
       "</div>"
      ],
      "text/plain": [
       "      radius  texture  perimeter    area  smoothness  compactness  concavity  \\\n",
       "0  14.326635    10.38     122.80  1001.0     0.11840      0.27760    0.30010   \n",
       "1  20.570000    17.77     132.90  1326.0     0.08474      0.07864    0.08690   \n",
       "2  19.690000    21.25     130.00  1203.0     0.10960      0.15990    0.19740   \n",
       "3  14.326635    20.38      77.58   386.1     0.14250      0.28390    0.24140   \n",
       "4  20.290000    14.34     135.10  1297.0     0.10030      0.13280    0.19800   \n",
       "5  14.326635    15.70      82.57   477.1     0.12780      0.17000    0.15780   \n",
       "6  18.250000    19.98     119.60  1040.0     0.09463      0.10900    0.11270   \n",
       "7  14.326635    20.83      90.20   577.9     0.11890      0.16450    0.09366   \n",
       "8  14.326635    21.82      87.50   519.8     0.12730      0.19320    0.18590   \n",
       "9  14.326635    24.04      83.97   475.9     0.11860      0.23960    0.22730   \n",
       "\n",
       "   symmetry  fractal_dimension   age  diagnosis  \n",
       "0    0.2419            0.07871  35.0        1.0  \n",
       "1    0.1812            0.05667  27.0        1.0  \n",
       "2    0.2069            0.05999  31.0        1.0  \n",
       "3    0.2597            0.09744  49.0        1.0  \n",
       "4    0.1809            0.05883  20.0        1.0  \n",
       "5    0.2087            0.07613  39.0        1.0  \n",
       "6    0.1794            0.05742  38.0        1.0  \n",
       "7    0.2196            0.07451  28.0        1.0  \n",
       "8    0.2350            0.07389  50.0        1.0  \n",
       "9    0.2030            0.08243  60.0        1.0  "
      ]
     },
     "execution_count": 198,
     "metadata": {},
     "output_type": "execute_result"
    }
   ],
   "source": [
    "# Display first 10 rows\n",
    "df2.head(10)"
   ]
  },
  {
   "cell_type": "markdown",
   "id": "bf90de1f",
   "metadata": {},
   "source": [
    "### Separate independent and dependent variables\n",
    "* Independent variables: All remaining variables except Diagnosis\n",
    "* Dependent variable: Diagnosis"
   ]
  },
  {
   "cell_type": "code",
   "execution_count": 199,
   "id": "c41094db",
   "metadata": {},
   "outputs": [
    {
     "data": {
      "text/plain": [
       "array([1., 0.])"
      ]
     },
     "execution_count": 199,
     "metadata": {},
     "output_type": "execute_result"
    }
   ],
   "source": [
    "# Prepare dataset for model training\n",
    "df2['diagnosis'].unique()"
   ]
  },
  {
   "cell_type": "markdown",
   "id": "e36a85e3",
   "metadata": {},
   "source": [
    "### Split data into training and test sets"
   ]
  },
  {
   "cell_type": "code",
   "execution_count": 200,
   "id": "b42d94e2",
   "metadata": {},
   "outputs": [],
   "source": [
    "# Split data into training data and test data\n",
    "X = df2.iloc[:, :-1]\n",
    "y = df2.iloc[:, -1] \n",
    "x_train, x_test, y_train, y_test = train_test_split(X, y, test_size=0.2, random_state=42)"
   ]
  },
  {
   "cell_type": "markdown",
   "id": "1a8efaee",
   "metadata": {},
   "source": [
    "### Train model"
   ]
  },
  {
   "cell_type": "code",
   "execution_count": 201,
   "id": "5bb03ef2",
   "metadata": {},
   "outputs": [
    {
     "name": "stderr",
     "output_type": "stream",
     "text": [
      "c:\\Users\\Owner\\anaconda3\\lib\\site-packages\\sklearn\\linear_model\\_logistic.py:814: ConvergenceWarning: lbfgs failed to converge (status=1):\n",
      "STOP: TOTAL NO. of ITERATIONS REACHED LIMIT.\n",
      "\n",
      "Increase the number of iterations (max_iter) or scale the data as shown in:\n",
      "    https://scikit-learn.org/stable/modules/preprocessing.html\n",
      "Please also refer to the documentation for alternative solver options:\n",
      "    https://scikit-learn.org/stable/modules/linear_model.html#logistic-regression\n",
      "  n_iter_i = _check_optimize_result(\n"
     ]
    },
    {
     "data": {
      "text/plain": [
       "LogisticRegression()"
      ]
     },
     "execution_count": 201,
     "metadata": {},
     "output_type": "execute_result"
    }
   ],
   "source": [
    "# Train model\n",
    "model = LogisticRegression()\n",
    "model.fit(x_train, y_train)"
   ]
  },
  {
   "cell_type": "markdown",
   "id": "db1ee74d",
   "metadata": {},
   "source": [
    "### If above results in error, review error message, look up documentation for LogisticRegression, and change model hyperparameter appropriately"
   ]
  },
  {
   "cell_type": "code",
   "execution_count": 202,
   "id": "54584ab9",
   "metadata": {},
   "outputs": [
    {
     "data": {
      "text/plain": [
       "LogisticRegression(max_iter=200)"
      ]
     },
     "execution_count": 202,
     "metadata": {},
     "output_type": "execute_result"
    }
   ],
   "source": [
    "# Train model again\n",
    "model = LogisticRegression(max_iter = 200)\n",
    "model.fit(x_train, y_train)"
   ]
  },
  {
   "cell_type": "markdown",
   "id": "c6ee096b",
   "metadata": {},
   "source": [
    "### Test model"
   ]
  },
  {
   "cell_type": "code",
   "execution_count": 203,
   "id": "53a44275",
   "metadata": {},
   "outputs": [
    {
     "name": "stdout",
     "output_type": "stream",
     "text": [
      "[0. 1. 1. 0. 0. 1. 1. 1. 0. 0. 0. 1. 0. 1. 0. 1. 0. 0. 0. 1. 0. 0. 1. 0.\n",
      " 0. 0. 0. 0. 0. 1. 0. 0. 0. 0. 0. 0. 1. 0. 1. 1. 0. 1. 0. 0. 0. 0. 0. 0.\n",
      " 0. 0. 1. 1. 1. 0. 0. 0. 0. 1. 0. 0. 0. 1. 1. 1. 0. 0. 1. 1. 0. 0. 1. 1.\n",
      " 0. 1. 0. 0. 0. 0. 0. 0. 1. 0. 1. 1. 1. 1. 1. 1. 0. 0. 0. 0. 1. 0. 0. 0.\n",
      " 1. 1. 0. 1. 1. 0. 1. 1. 0. 0. 0. 1. 0. 0. 1. 0. 1. 1.]\n"
     ]
    }
   ],
   "source": [
    "# Generate predictions against the test set\n",
    "predictions = model.predict(x_test)\n",
    "\n",
    "# Print predictions\n",
    "print(predictions)"
   ]
  },
  {
   "cell_type": "markdown",
   "id": "c6f62cb5",
   "metadata": {},
   "source": [
    "### Model evaluation"
   ]
  },
  {
   "cell_type": "code",
   "execution_count": 204,
   "id": "ca4ccd8f",
   "metadata": {},
   "outputs": [
    {
     "name": "stdout",
     "output_type": "stream",
     "text": [
      "              precision    recall  f1-score   support\n",
      "\n",
      "         0.0       0.96      0.93      0.94        71\n",
      "         1.0       0.89      0.93      0.91        43\n",
      "\n",
      "    accuracy                           0.93       114\n",
      "   macro avg       0.92      0.93      0.93       114\n",
      "weighted avg       0.93      0.93      0.93       114\n",
      "\n"
     ]
    }
   ],
   "source": [
    "# Print classification report\n",
    "print(classification_report(y_test, predictions))"
   ]
  },
  {
   "cell_type": "code",
   "execution_count": 205,
   "id": "f45b33dd",
   "metadata": {},
   "outputs": [
    {
     "name": "stdout",
     "output_type": "stream",
     "text": [
      "accuracy =  92.98245614035088 %\n"
     ]
    }
   ],
   "source": [
    "# Print model accuracy\n",
    "accuracy = model.score(x_test, y_test)\n",
    "print(\"accuracy = \", accuracy * 100, \"%\")"
   ]
  },
  {
   "cell_type": "code",
   "execution_count": null,
   "id": "b82c12fe",
   "metadata": {},
   "outputs": [],
   "source": []
  }
 ],
 "metadata": {
  "kernelspec": {
   "display_name": "Python 3 (ipykernel)",
   "language": "python",
   "name": "python3"
  },
  "language_info": {
   "codemirror_mode": {
    "name": "ipython",
    "version": 3
   },
   "file_extension": ".py",
   "mimetype": "text/x-python",
   "name": "python",
   "nbconvert_exporter": "python",
   "pygments_lexer": "ipython3",
   "version": "3.9.12"
  },
  "vscode": {
   "interpreter": {
    "hash": "585a938ec471c889bf0cce0aed741a99eaf47ca09c0fa8393793bc5bfe77ba11"
   }
  }
 },
 "nbformat": 4,
 "nbformat_minor": 5
}
